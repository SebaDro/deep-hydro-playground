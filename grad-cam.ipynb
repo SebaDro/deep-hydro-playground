{
 "cells": [
  {
   "cell_type": "markdown",
   "id": "197ef6f9-7509-4e1c-8290-3e9036ec0fcc",
   "metadata": {},
   "source": [
    "# Grad-CAM"
   ]
  },
  {
   "cell_type": "code",
   "execution_count": 1,
   "id": "a463f823-0a6e-46d8-a568-0114434d2751",
   "metadata": {},
   "outputs": [],
   "source": [
    "import os\n",
    "\n",
    "import pandas as pd\n",
    "import xarray as xr\n",
    "import numpy as np\n",
    "import tensorflow as tf\n",
    "import matplotlib.pyplot as plt\n",
    "import matplotlib.dates as mdates\n",
    "import geopandas as gpd\n",
    "import matplotlib.cm as cm\n",
    "from PIL import Image\n",
    "\n",
    "from libs import generator"
   ]
  },
  {
   "cell_type": "code",
   "execution_count": 2,
   "id": "02302b2d-3d6e-4159-b381-a9ff4f1b9cf5",
   "metadata": {},
   "outputs": [],
   "source": [
    "#### Read streamflow ####\n",
    "streamflow_path = \"./data/discharge_timeseries.csv\"\n",
    "pd_streamflow = pd.read_csv(streamflow_path, sep=\",\", skiprows=2, header=0, decimal=\".\")\n",
    "pd_streamflow[\"date\"] = pd.to_datetime(pd_streamflow[\"date\"])\n",
    "pd_streamflow = pd_streamflow.rename(columns={\"date\": \"time\"})\n",
    "pd_streamflow = pd_streamflow.melt(id_vars=[\"time\"], var_name=\"basin\", value_name=\"streamflow\")\n",
    "pd_streamflow = pd_streamflow.set_index([\"time\", \"basin\"])\n",
    "ds_streamflow = pd_streamflow.to_xarray()\n",
    "\n",
    "path = \"D:/Dokumente/Promotion/01_Data/DWD/REGNIE/netcdf/wv_regnie.nc\"\n",
    "xds = xr.open_dataset(path)\n",
    "xds_merge = xds.merge(ds_streamflow)"
   ]
  },
  {
   "cell_type": "code",
   "execution_count": 3,
   "id": "d873a8a4-3fa6-40b1-9a88-7f18c8691b8b",
   "metadata": {},
   "outputs": [],
   "source": [
    "# Split datasets\n",
    "sample_basins = [\"100050\", \"100044\", \"100057\", \"100064\", \"100051\", \"100072\", \"100063\"]\n",
    "out_of_sample_basins = [\"100061\", \"100068\", \"100085\", \"159783\", \"100086\"]\n",
    "\n",
    "feature_vars = [\"precipitation\"]\n",
    "target_var = \"streamflow\"\n",
    "train_start_date = \"1990-01-01\"\n",
    "train_end_date = \"2010-12-31\"\n",
    "test_start_date = \"2016-01-01\"\n",
    "test_end_date = \"2020-12-31\"\n",
    "timesteps = 10\n",
    "batch_size = 1\n",
    "offset = 1\n",
    "\n",
    "train_xds = xds_merge.sel(basin=sample_basins, time=slice(train_start_date, train_end_date))\n",
    "test_xds = xds_merge.sel(basin=sample_basins, time=slice(test_start_date, test_end_date))\n",
    "\n",
    "# Apply min/max scaling by using min and max from training dataset\n",
    "xds_min = train_xds.min()\n",
    "xds_max = train_xds.max()\n",
    "\n",
    "test_xds = (test_xds - xds_min) / (xds_max - xds_min)\n",
    "\n",
    "test_gen = generator.CustomTimeseriesGenerator(xds=test_xds, batch_size=batch_size, timesteps=timesteps,\n",
    "                                               offset=offset, feature_vars=feature_vars, target_var=target_var,\n",
    "                                               drop_na=False, joined_output=True)"
   ]
  },
  {
   "cell_type": "code",
   "execution_count": 4,
   "id": "d8f00cfa-46df-466f-9fda-fb7ba42c0cb2",
   "metadata": {},
   "outputs": [],
   "source": [
    "def create_grad_cam_heatmap(model, inputs, pred_index, last_conv_layer, timestep):\n",
    "    grad_model = tf.keras.models.Model(\n",
    "        [model.inputs], [model.get_layer(last_conv_layer).output, model.output]\n",
    "    )\n",
    "\n",
    "    with tf.GradientTape() as tape:\n",
    "        feature_maps, cnn_preds = grad_model(inputs)\n",
    "        # if cnn_pred_index is None:\n",
    "        #     cnn_pred_index = tf.argmax(cnn_preds[cnn_pred_index])\n",
    "        class_channel = cnn_preds[:, pred_index]\n",
    "\n",
    "    grads = tape.gradient(class_channel, feature_maps)\n",
    "    pooled_grads = tf.reduce_mean(grads, axis=(0, 2, 3))\n",
    "\n",
    "    feature_maps = feature_maps[0]\n",
    "\n",
    "    heatmap_res = tf.zeros([0, feature_maps.shape[1], feature_maps.shape[2]])\n",
    "\n",
    "    for i in range(0, feature_maps.shape[0]):\n",
    "        heatmap = feature_maps[i, ...] @ pooled_grads[i, ..., tf.newaxis]\n",
    "        heatmap = tf.reshape(heatmap, (1, heatmap.shape[0], heatmap.shape[1]))\n",
    "        heatmap = tf.maximum(heatmap, 0) / tf.math.reduce_max(heatmap)\n",
    "\n",
    "        heatmap_res = tf.concat([heatmap_res, heatmap], axis=0)\n",
    "\n",
    "    # heatmap_res = tf.maximum(heatmap_res, 0) / tf.math.reduce_max(heatmap_res)\n",
    "\n",
    "    np_heatmap = heatmap_res.numpy()\n",
    "\n",
    "    # t = 25\n",
    "    image = inputs[0, timestep, ..., 0]\n",
    "    image_heatmap = np_heatmap[timestep, ...]\n",
    "\n",
    "    image_heatmap = Image.fromarray(image_heatmap)\n",
    "    image_heatmap = image_heatmap.resize((image.shape[1], image.shape[0]))\n",
    "    image_heatmap = tf.keras.preprocessing.image.img_to_array(image_heatmap)\n",
    "\n",
    "    return image_heatmap"
   ]
  },
  {
   "cell_type": "code",
   "execution_count": 5,
   "id": "be2b3b7e-cade-4960-ace2-18123631d6e0",
   "metadata": {},
   "outputs": [
    {
     "name": "stdout",
     "output_type": "stream",
     "text": [
      "Model: \"sequential\"\n",
      "_________________________________________________________________\n",
      "Layer (type)                 Output Shape              Param #   \n",
      "=================================================================\n",
      "time_distributed (TimeDistri (None, 10, 38, 39, 32)    320       \n",
      "_________________________________________________________________\n",
      "time_distributed_1 (TimeDist (None, 10, 19, 19, 32)    0         \n",
      "_________________________________________________________________\n",
      "time_distributed_2 (TimeDist (None, 10, 17, 17, 32)    9248      \n",
      "_________________________________________________________________\n",
      "time_distributed_3 (TimeDist (None, 10, 8, 8, 32)      0         \n",
      "_________________________________________________________________\n",
      "time_distributed_4 (TimeDist (None, 10, 2048)          0         \n",
      "_________________________________________________________________\n",
      "lstm (LSTM)                  (None, 10, 32)            266368    \n",
      "_________________________________________________________________\n",
      "lstm_1 (LSTM)                (None, 32)                8320      \n",
      "_________________________________________________________________\n",
      "dense (Dense)                (None, 7)                 231       \n",
      "=================================================================\n",
      "Total params: 284,487\n",
      "Trainable params: 284,487\n",
      "Non-trainable params: 0\n",
      "_________________________________________________________________\n"
     ]
    }
   ],
   "source": [
    "# Load model\n",
    "# cnn_model = tf.keras.models.load_model(\"./models/20220325133614_wv_bulk.h5\")\n",
    "cnn_model = tf.keras.models.load_model(\"./models/20220331110412_wv_bulk.h5\")\n",
    "# cnn_model = tf.keras.models.load_model(\"./models/20220331150007_wv_bulk.h5\")\n",
    "# cnn_model = tf.keras.models.load_model(\"./models/20220401090231_wv_bulk.h5\")\n",
    "# cnn_model = tf.keras.models.load_model(\"./models/20220401101900_wv_bulk.h5\")\n",
    "# cnn_model = tf.keras.models.load_model(\"./models/20220401173449_wv_bulk.h5\")\n",
    "\n",
    "cnn_model.summary()"
   ]
  },
  {
   "cell_type": "code",
   "execution_count": 6,
   "id": "d39def6b-ae68-4f4f-a0b4-46f125f2f104",
   "metadata": {},
   "outputs": [],
   "source": [
    "from libs import gradcam"
   ]
  },
  {
   "cell_type": "code",
   "execution_count": 7,
   "id": "a7af53d1-c55d-4ec6-bc15-8f039335b7ab",
   "metadata": {},
   "outputs": [],
   "source": [
    "pred_index = 0  # basin\n",
    "cnn_layer_name = \"time_distributed_3\"\n",
    "lstm_layer_name = \"lstm\"\n",
    "timestep = 0\n",
    "basins = [\"100050\", \"100044\", \"100057\", \"100064\", \"100051\", \"100072\", \"100063\"]\n",
    "\n",
    "inputs, targets = test_gen[0]"
   ]
  },
  {
   "cell_type": "code",
   "execution_count": 8,
   "id": "e3363a44-f586-4af3-bd50-f552628ec5fe",
   "metadata": {},
   "outputs": [],
   "source": [
    "heatmap_timeseries_list = []\n",
    "for t in range(0, timesteps):\n",
    "    heatmap_list = []\n",
    "    for i in range(0, 7):\n",
    "        image_heatmap = gradcam.create_grad_cam_heatmap(cnn_model, inputs, pred_index=i, last_conv_layer=cnn_layer_name, timestep=t)\n",
    "        heatmap_list.append(image_heatmap)\n",
    "    heatmap_timeseries_list.append(heatmap_list)"
   ]
  },
  {
   "cell_type": "code",
   "execution_count": null,
   "id": "d949e45b-889d-4b16-8660-819c984862f0",
   "metadata": {},
   "outputs": [],
   "source": [
    "heatmap_lstm_timeseries_list = []\n",
    "for t in range(0, timesteps):\n",
    "    heatmap_lstm_list = []\n",
    "    for i in range(0, 7):\n",
    "        image_heatmap = gradcam.create_grad_lstm_cam_heatmap(cnn_model, inputs, pred_index=i, last_conv_layer=cnn_layer_name, last_lstm_layer=lstm_layer_name, timestep=t, mixed_weighting=False)\n",
    "        heatmap_lstm_list.append(image_heatmap)\n",
    "    heatmap_lstm_timeseries_list.append(heatmap_lstm_list)"
   ]
  },
  {
   "cell_type": "code",
   "execution_count": null,
   "id": "cf82336e-f6bd-4cee-8eb8-23cd1d6455ac",
   "metadata": {},
   "outputs": [],
   "source": [
    "plt.style.use('seaborn-ticks')"
   ]
  },
  {
   "cell_type": "code",
   "execution_count": null,
   "id": "4c4d77f4-c929-4970-9b73-5627e2aecd76",
   "metadata": {},
   "outputs": [],
   "source": [
    "fig, axis = plt.subplots(timesteps, 8, figsize=(16, 16), sharex=\"all\", sharey=\"all\")\n",
    "\n",
    "for t in range(0, timesteps):\n",
    "    image = inputs[0, t, ..., 0]\n",
    "    axis[t, 0].imshow(image, cmap=\"Blues\")\n",
    "    # axis[0].imshow(image, cmap=\"gray\")\n",
    "    for i in range(0, 7):\n",
    "        ax = axis[t, i + 1]\n",
    "        # ax = axis[i + 1]\n",
    "        ax.imshow(heatmap_timeseries_list[t][i], cmap=\"jet\", alpha=0.4, vmin=0., vmax=1.)\n",
    "        # plt.xlabel(basins[i])\n",
    "\n",
    "for ax, col in zip(axis[0,1:8], basins):\n",
    "    ax.set_title(col)\n",
    "\n",
    "row_labels = [f\"t={t}\" for t in range (0,11)]\n",
    "for ax, row in zip(axis[:,0], row_labels):\n",
    "    ax.set_ylabel(row)"
   ]
  },
  {
   "cell_type": "code",
   "execution_count": null,
   "id": "505965ac-3479-41ad-89d4-7b9ce42c8f96",
   "metadata": {},
   "outputs": [],
   "source": [
    "fig, axis = plt.subplots(timesteps, 8, figsize=(16, 16), sharex=\"all\", sharey=\"all\")\n",
    "\n",
    "for t in range(0, timesteps):\n",
    "    image = inputs[0, t, ..., 0]\n",
    "    axis[t, 0].imshow(image, cmap=\"Blues\")\n",
    "    # axis[0].imshow(image, cmap=\"gray\")\n",
    "    for i in range(0, 7):\n",
    "        ax = axis[t, i + 1]\n",
    "        # ax = axis[i + 1]\n",
    "        ax.imshow(heatmap_lstm_timeseries_list[t][i], cmap=\"jet\", alpha=0.4, vmin=0, vmax=1)\n",
    "        # plt.xlabel(basins[i])\n",
    "\n",
    "for ax, col in zip(axis[0,1:8], basins):\n",
    "    ax.set_title(col)\n",
    "\n",
    "row_labels = [f\"t={t}\" for t in range (0,11)]\n",
    "for ax, row in zip(axis[:,0], row_labels):\n",
    "    ax.set_ylabel(row)"
   ]
  },
  {
   "cell_type": "code",
   "execution_count": 23,
   "id": "4097d5d2-6895-41dc-8090-3946c4c1eead",
   "metadata": {},
   "outputs": [
    {
     "ename": "ValueError",
     "evalue": "The truth value of an array with more than one element is ambiguous. Use a.any() or a.all()",
     "output_type": "error",
     "traceback": [
      "\u001b[1;31m---------------------------------------------------------------------------\u001b[0m",
      "\u001b[1;31mValueError\u001b[0m                                Traceback (most recent call last)",
      "\u001b[1;32m~\\AppData\\Local\\Temp\\ipykernel_2032\\3666462525.py\u001b[0m in \u001b[0;36m<module>\u001b[1;34m\u001b[0m\n\u001b[1;32m----> 1\u001b[1;33m \u001b[0mmax\u001b[0m\u001b[1;33m(\u001b[0m\u001b[0mheatmap_lstm_timeseries_list\u001b[0m\u001b[1;33m)\u001b[0m\u001b[1;33m\u001b[0m\u001b[1;33m\u001b[0m\u001b[0m\n\u001b[0m",
      "\u001b[1;31mValueError\u001b[0m: The truth value of an array with more than one element is ambiguous. Use a.any() or a.all()"
     ]
    }
   ],
   "source": [
    "max(heatmap_lstm_timeseries_list)"
   ]
  },
  {
   "cell_type": "code",
   "execution_count": 27,
   "id": "ebc2685b-196d-413b-b40f-0b2cd4c5d454",
   "metadata": {},
   "outputs": [
    {
     "data": {
      "text/plain": [
       "-0.0023165627"
      ]
     },
     "execution_count": 27,
     "metadata": {},
     "output_type": "execute_result"
    }
   ],
   "source": []
  },
  {
   "cell_type": "code",
   "execution_count": null,
   "id": "c6282ebf-dfdb-409c-aaee-b3b154ba310b",
   "metadata": {},
   "outputs": [],
   "source": []
  }
 ],
 "metadata": {
  "kernelspec": {
   "display_name": "Python 3 (ipykernel)",
   "language": "python",
   "name": "python3"
  },
  "language_info": {
   "codemirror_mode": {
    "name": "ipython",
    "version": 3
   },
   "file_extension": ".py",
   "mimetype": "text/x-python",
   "name": "python",
   "nbconvert_exporter": "python",
   "pygments_lexer": "ipython3",
   "version": "3.7.9"
  }
 },
 "nbformat": 4,
 "nbformat_minor": 5
}
